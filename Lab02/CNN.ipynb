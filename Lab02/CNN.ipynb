{
  "cells": [
    {
      "cell_type": "code",
      "execution_count": 17,
      "metadata": {
        "id": "EUbCIc-3OAww"
      },
      "outputs": [],
      "source": [
        "import torch\n",
        "import torchvision\n",
        "import torchvision.transforms as transforms\n",
        "from torchvision.datasets import Flowers102\n",
        "\n",
        "# Define transforms for data normalization and augmentation\n",
        "transform = transforms.Compose([\n",
        "    transforms.Resize((224, 224)),  # Resize images to match input size\n",
        "    transforms.ToTensor(),\n",
        "    transforms.Normalize((0.5, 0.5, 0.5), (0.5, 0.5, 0.5))  # Standard normalization\n",
        "])\n",
        "\n",
        "# Load Flowers102 dataset\n",
        "train_dataset = Flowers102(root='./data', split='test', transform=transform, download=True)\n",
        "test_dataset = Flowers102(root='./data', split='train', transform=transform, download=True)\n",
        "\n",
        "train_loader = torch.utils.data.DataLoader(train_dataset, batch_size=32, shuffle=True)\n",
        "test_loader = torch.utils.data.DataLoader(test_dataset, batch_size=32, shuffle=False)\n"
      ]
    },
    {
      "cell_type": "code",
      "execution_count": 18,
      "metadata": {
        "colab": {
          "base_uri": "https://localhost:8080/"
        },
        "id": "Z1qEHF2pOXCA",
        "outputId": "8da7d446-9967-4b42-d8ca-d82938d10d90"
      },
      "outputs": [
        {
          "name": "stdout",
          "output_type": "stream",
          "text": [
            "[INFO] Current device: NVIDIA GeForce RTX 3090 Ti , device num:0\n"
          ]
        }
      ],
      "source": [
        "if torch.cuda.is_available():\n",
        "    device = 'cuda:0'\n",
        "    print(\"[INFO] Current device:\", torch.cuda.get_device_name(torch.cuda.current_device()), f\", device num:{torch.cuda.current_device()}\")\n",
        "elif torch.has_mps:\n",
        "    device = 'mps'\n",
        "    print(\"[INFO] Current device: MAC OS Metal Performance Shaders.\")\n",
        "else:\n",
        "    device = 'cpu'\n",
        "    print(\"[INFO] Current device: CPU\")\n",
        "    print(\"*\"*50,\"\\n[WARNING] You may need to change the device to GPU or MPS to get better performance.\")\n",
        "    print(\"*\"*50)\n",
        "device = torch.device(device)"
      ]
    },
    {
      "cell_type": "code",
      "execution_count": 19,
      "metadata": {
        "id": "22QnFXq4OFp5"
      },
      "outputs": [],
      "source": [
        "import torch.nn as nn\n",
        "import torch.nn.functional as F\n",
        "\n",
        "class FlowerNet(nn.Module):\n",
        "    def __init__(self):\n",
        "        super(FlowerNet, self).__init__()\n",
        "        self.conv1 = nn.Conv2d(3, 64, 3, padding=1)\n",
        "        self.conv2 = nn.Conv2d(64, 128, 3, padding=1)\n",
        "        self.conv3 = nn.Conv2d(128, 256, 3, padding=1)\n",
        "        self.pool = nn.MaxPool2d(2, 2)\n",
        "        self.fc1 = nn.Linear(256 * 28 * 28, 512)\n",
        "        self.fc2 = nn.Linear(512, 102)  # 102 flower classes\n",
        "\n",
        "    def forward(self, x):\n",
        "        x = self.pool(F.relu(self.conv1(x)))\n",
        "        x = self.pool(F.relu(self.conv2(x)))\n",
        "        x = self.pool(F.relu(self.conv3(x)))\n",
        "        x = x.view(-1, 256 * 28 * 28)  # Flatten for fully connected layers\n",
        "        x = F.relu(self.fc1(x))\n",
        "        x = self.fc2(x)\n",
        "        return x\n",
        "\n",
        "net = FlowerNet().to(device)\n"
      ]
    },
    {
      "cell_type": "code",
      "execution_count": 20,
      "metadata": {
        "colab": {
          "base_uri": "https://localhost:8080/"
        },
        "id": "fd3BxJxGOHxL",
        "outputId": "08cc853a-750b-4ffe-e8b1-bafed064ad04"
      },
      "outputs": [
        {
          "name": "stdout",
          "output_type": "stream",
          "text": [
            "Epoch 1, Batch 100: loss = 4.486\n",
            "Epoch 2, Batch 100: loss = 4.111\n",
            "Epoch 3, Batch 100: loss = 3.426\n",
            "Epoch 4, Batch 100: loss = 2.832\n",
            "Epoch 5, Batch 100: loss = 2.454\n",
            "Epoch 6, Batch 100: loss = 2.100\n",
            "Epoch 7, Batch 100: loss = 1.820\n",
            "Epoch 8, Batch 100: loss = 1.492\n",
            "Epoch 9, Batch 100: loss = 1.165\n",
            "Epoch 10, Batch 100: loss = 0.917\n",
            "Epoch 11, Batch 100: loss = 0.684\n",
            "Epoch 12, Batch 100: loss = 0.495\n",
            "Epoch 13, Batch 100: loss = 0.273\n",
            "Epoch 14, Batch 100: loss = 0.253\n",
            "Epoch 15, Batch 100: loss = 0.145\n",
            "Epoch 16, Batch 100: loss = 0.116\n",
            "Epoch 17, Batch 100: loss = 0.056\n",
            "Epoch 18, Batch 100: loss = 0.008\n",
            "Epoch 19, Batch 100: loss = 0.004\n",
            "Epoch 20, Batch 100: loss = 0.002\n",
            "Epoch 21, Batch 100: loss = 0.008\n",
            "Epoch 22, Batch 100: loss = 0.001\n",
            "Epoch 23, Batch 100: loss = 0.001\n",
            "Epoch 24, Batch 100: loss = 0.007\n",
            "Epoch 25, Batch 100: loss = 0.006\n",
            "Epoch 26, Batch 100: loss = 0.003\n",
            "Epoch 27, Batch 100: loss = 0.001\n",
            "Epoch 28, Batch 100: loss = 0.001\n",
            "Epoch 29, Batch 100: loss = 0.001\n",
            "Epoch 30, Batch 100: loss = 0.001\n",
            "Epoch 31, Batch 100: loss = 0.001\n",
            "Epoch 32, Batch 100: loss = 0.001\n",
            "Epoch 33, Batch 100: loss = 0.001\n",
            "Epoch 34, Batch 100: loss = 0.004\n",
            "Epoch 35, Batch 100: loss = 0.000\n",
            "Epoch 36, Batch 100: loss = 0.004\n",
            "Epoch 37, Batch 100: loss = 0.000\n",
            "Epoch 38, Batch 100: loss = 0.000\n",
            "Epoch 39, Batch 100: loss = 0.000\n",
            "Epoch 40, Batch 100: loss = 0.002\n",
            "Epoch 41, Batch 100: loss = 0.003\n",
            "Epoch 42, Batch 100: loss = 0.002\n",
            "Epoch 43, Batch 100: loss = 0.000\n",
            "Epoch 44, Batch 100: loss = 0.001\n",
            "Epoch 45, Batch 100: loss = 0.001\n",
            "Epoch 46, Batch 100: loss = 0.000\n",
            "Epoch 47, Batch 100: loss = 0.000\n",
            "Epoch 48, Batch 100: loss = 0.001\n",
            "Epoch 49, Batch 100: loss = 0.000\n",
            "Epoch 50, Batch 100: loss = 0.000\n",
            "Finished Training\n"
          ]
        }
      ],
      "source": [
        "import torch.optim as optim\n",
        "\n",
        "criterion = nn.CrossEntropyLoss()  # Suitable for multi-class classification\n",
        "optimizer = optim.SGD(net.parameters(), lr=0.001, momentum=0.9)\n",
        "# Training loop\n",
        "for epoch in range(50):  # Adjust epochs as necessary\n",
        "    running_loss = 0.0\n",
        "    for i, data in enumerate(train_loader, 0):\n",
        "        inputs, labels = data\n",
        "        inputs, labels = inputs.to(device), labels.to(device)\n",
        "\n",
        "        # Zero the parameter gradients\n",
        "        optimizer.zero_grad()\n",
        "\n",
        "        # Forward + backward + optimize\n",
        "        outputs = net(inputs)\n",
        "        loss = criterion(outputs, labels)\n",
        "        loss.backward()\n",
        "        optimizer.step()\n",
        "\n",
        "        # Print statistics\n",
        "        running_loss += loss.item()\n",
        "        if i % 100 == 99:  # Print every 100 mini-batches\n",
        "            print(f'Epoch {epoch + 1}, Batch {i + 1}: loss = {running_loss / 100:.3f}')\n",
        "            running_loss = 0.0\n",
        "\n",
        "print('Finished Training')\n"
      ]
    },
    {
      "cell_type": "code",
      "execution_count": 21,
      "metadata": {
        "colab": {
          "base_uri": "https://localhost:8080/",
          "height": 211
        },
        "id": "ihNIPzEIOLN-",
        "outputId": "3d6c0c5c-cf23-427f-cded-13993f160f0d"
      },
      "outputs": [
        {
          "name": "stdout",
          "output_type": "stream",
          "text": [
            "Accuracy on test images: 40.490196078431374%\n"
          ]
        }
      ],
      "source": [
        "correct = 0\n",
        "total = 0\n",
        "with torch.no_grad():\n",
        "    for data in test_loader:\n",
        "        images, labels = data\n",
        "        images, labels = images.to(device), labels.to(device)\n",
        "        outputs = net(images)\n",
        "        _, predicted = torch.max(outputs.data, 1)\n",
        "        total += labels.size(0)\n",
        "        correct += (predicted == labels).sum().item()\n",
        "\n",
        "print(f'Accuracy on test images: {100 * correct / total}%')\n"
      ]
    }
  ],
  "metadata": {
    "accelerator": "GPU",
    "colab": {
      "gpuType": "T4",
      "name": "歡迎使用 Colaboratory",
      "provenance": [],
      "toc_visible": true
    },
    "kernelspec": {
      "display_name": "Python 3",
      "name": "python3"
    },
    "language_info": {
      "codemirror_mode": {
        "name": "ipython",
        "version": 3
      },
      "file_extension": ".py",
      "mimetype": "text/x-python",
      "name": "python",
      "nbconvert_exporter": "python",
      "pygments_lexer": "ipython3",
      "version": "3.11.9"
    }
  },
  "nbformat": 4,
  "nbformat_minor": 0
}

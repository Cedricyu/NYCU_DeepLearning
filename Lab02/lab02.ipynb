{
  "nbformat": 4,
  "nbformat_minor": 0,
  "metadata": {
    "colab": {
      "provenance": [],
      "gpuType": "T4"
    },
    "kernelspec": {
      "name": "python3",
      "display_name": "Python 3"
    },
    "language_info": {
      "name": "python"
    },
    "accelerator": "GPU"
  },
  "cells": [
    {
      "cell_type": "code",
      "source": [
        "import torch\n",
        "import torch.nn as nn\n",
        "import torch.optim as optim\n",
        "from torch.utils.data import DataLoader\n",
        "from torchvision import datasets, transforms\n",
        "import matplotlib.pyplot as plt\n"
      ],
      "metadata": {
        "id": "PbYZCcOhf9gc"
      },
      "execution_count": 1,
      "outputs": []
    },
    {
      "cell_type": "code",
      "execution_count": 11,
      "metadata": {
        "id": "mnq_PaO7f0jP"
      },
      "outputs": [],
      "source": [
        "# Define transformations\n",
        "transform = transforms.Compose([\n",
        "    transforms.Resize((128, 128)),  # Resize images to 128x128\n",
        "    transforms.ToTensor(),\n",
        "    transforms.Normalize([0.485, 0.456, 0.406], [0.229, 0.224, 0.225])\n",
        "])\n",
        "\n",
        "# Load Flowers102 dataset\n",
        "train_data = datasets.Flowers102(root='data', split='train', download=True, transform=transform)\n",
        "val_data = datasets.Flowers102(root='data', split='val', download=True, transform=transform)\n",
        "test_data = datasets.Flowers102(root='data', split='test', download=True, transform=transform)\n",
        "\n",
        "# Create data loaders\n",
        "train_loader = DataLoader(test_data, batch_size=32, shuffle=True)\n",
        "val_loader = DataLoader(val_data, batch_size=32, shuffle=False)\n",
        "test_loader = DataLoader(train_data, batch_size=32, shuffle=False)\n"
      ]
    },
    {
      "cell_type": "code",
      "source": [
        "if torch.cuda.is_available():\n",
        "    device = 'cuda:0'\n",
        "    print(\"[INFO] Current device:\", torch.cuda.get_device_name(torch.cuda.current_device()), f\", device num:{torch.cuda.current_device()}\")\n",
        "elif torch.has_mps:\n",
        "    device = 'mps'\n",
        "    print(\"[INFO] Current device: MAC OS Metal Performance Shaders.\")\n",
        "else:\n",
        "    device = 'cpu'\n",
        "    print(\"[INFO] Current device: CPU\")\n",
        "    print(\"*\"*50,\"\\n[WARNING] You may need to change the device to GPU or MPS to get better performance.\")\n",
        "    print(\"*\"*50)\n",
        "device = torch.device(device)"
      ],
      "metadata": {
        "id": "CZcaNkiogLrT"
      },
      "execution_count": 3,
      "outputs": []
    },
    {
      "cell_type": "code",
      "source": [
        "import torch.nn.functional as F\n",
        "\n",
        "class ResidualBlock(nn.Module):\n",
        "    def __init__(self, in_channels, out_channels, stride=1, downsample=None):\n",
        "        super(ResidualBlock, self).__init__()\n",
        "        self.conv1 = nn.Conv2d(in_channels, out_channels, kernel_size=3, stride=stride, padding=1, bias=False)\n",
        "        self.bn1 = nn.BatchNorm2d(out_channels)\n",
        "        self.conv2 = nn.Conv2d(out_channels, out_channels, kernel_size=3, padding=1, bias=False)\n",
        "        self.bn2 = nn.BatchNorm2d(out_channels)\n",
        "        self.downsample = downsample  # Adjust dimensions if needed for skip connection\n",
        "\n",
        "    def forward(self, x):\n",
        "        identity = x  # Save the input for the skip connection\n",
        "\n",
        "        # First convolutional layer\n",
        "        out = self.conv1(x)\n",
        "        out = self.bn1(out)\n",
        "        out = F.relu(out)\n",
        "\n",
        "        # Second convolutional layer\n",
        "        out = self.conv2(out)\n",
        "        out = self.bn2(out)\n",
        "\n",
        "        # Downsample the input if necessary\n",
        "        if self.downsample is not None:\n",
        "            identity = self.downsample(x)\n",
        "\n",
        "        # Add skip connection (identity)\n",
        "        out += identity\n",
        "        out = F.relu(out)\n",
        "\n",
        "        return out\n"
      ],
      "metadata": {
        "id": "t_-bqNZ2g2aT"
      },
      "execution_count": 4,
      "outputs": []
    },
    {
      "cell_type": "code",
      "source": [
        "class CustomResNet(nn.Module):\n",
        "    def __init__(self, block, layers, num_classes=102):\n",
        "        super(CustomResNet, self).__init__()\n",
        "        self.in_channels = 64  # Initial number of filters\n",
        "\n",
        "        # Initial convolutional layer\n",
        "        self.conv1 = nn.Conv2d(3, self.in_channels, kernel_size=7, stride=2, padding=3, bias=False)\n",
        "        self.bn1 = nn.BatchNorm2d(self.in_channels)\n",
        "        self.relu = nn.ReLU(inplace=True)\n",
        "        self.maxpool = nn.MaxPool2d(kernel_size=3, stride=2, padding=1)\n",
        "\n",
        "        # ResNet layers (4 stages)\n",
        "        self.layer1 = self._make_layer(block, 64, layers[0])\n",
        "        self.layer2 = self._make_layer(block, 128, layers[1], stride=2)\n",
        "        self.layer3 = self._make_layer(block, 256, layers[2], stride=2)\n",
        "        self.layer4 = self._make_layer(block, 512, layers[3], stride=2)\n",
        "\n",
        "        # Global average pooling and fully connected layer\n",
        "        self.avgpool = nn.AdaptiveAvgPool2d((1, 1))\n",
        "        self.fc = nn.Linear(512, num_classes)  # 102 classes for Flowers102\n",
        "\n",
        "    def _make_layer(self, block, out_channels, blocks, stride=1):\n",
        "        # Helper function to create a stage with several residual blocks\n",
        "        downsample = None\n",
        "        if stride != 1 or self.in_channels != out_channels:\n",
        "            downsample = nn.Sequential(\n",
        "                nn.Conv2d(self.in_channels, out_channels, kernel_size=1, stride=stride, bias=False),\n",
        "                nn.BatchNorm2d(out_channels)\n",
        "            )\n",
        "\n",
        "        layers = []\n",
        "        layers.append(block(self.in_channels, out_channels, stride, downsample))\n",
        "        self.in_channels = out_channels\n",
        "\n",
        "        for _ in range(1, blocks):\n",
        "            layers.append(block(out_channels, out_channels))\n",
        "\n",
        "        return nn.Sequential(*layers)\n",
        "\n",
        "    def forward(self, x):\n",
        "        # Forward pass through the network\n",
        "        x = self.conv1(x)\n",
        "        x = self.bn1(x)\n",
        "        x = self.relu(x)\n",
        "        x = self.maxpool(x)\n",
        "\n",
        "        x = self.layer1(x)\n",
        "        x = self.layer2(x)\n",
        "        x = self.layer3(x)\n",
        "        x = self.layer4(x)\n",
        "\n",
        "        x = self.avgpool(x)\n",
        "        x = torch.flatten(x, 1)\n",
        "        x = self.fc(x)\n",
        "\n",
        "        return x\n"
      ],
      "metadata": {
        "id": "qnwOfpqlg8Zd"
      },
      "execution_count": 5,
      "outputs": []
    },
    {
      "cell_type": "code",
      "source": [
        "# Define the model using ResNet18 configuration (2 residual blocks per stage)\n",
        "def custom_resnet18(num_classes=102):\n",
        "    return CustomResNet(ResidualBlock, [2, 2, 2, 2], num_classes=num_classes)\n",
        "\n",
        "# Initialize the model\n",
        "model = custom_resnet18().to(device)\n"
      ],
      "metadata": {
        "id": "zeqYeopZg_t0"
      },
      "execution_count": 6,
      "outputs": []
    },
    {
      "cell_type": "code",
      "source": [
        "criterion = nn.CrossEntropyLoss()\n",
        "optimizer = optim.Adam(model.parameters(), lr=0.001)\n"
      ],
      "metadata": {
        "id": "-pibqUSphDn2"
      },
      "execution_count": 7,
      "outputs": []
    },
    {
      "cell_type": "code",
      "source": [
        "def train_model(model, criterion, optimizer, num_epochs=10):\n",
        "    for epoch in range(num_epochs):\n",
        "        model.train()\n",
        "        running_loss = 0.0\n",
        "        correct = 0\n",
        "        total = 0\n",
        "\n",
        "        for inputs, labels in train_loader:\n",
        "            inputs, labels = inputs.to(device), labels.to(device)\n",
        "\n",
        "            optimizer.zero_grad()\n",
        "            outputs = model(inputs)\n",
        "            loss = criterion(outputs, labels)\n",
        "            loss.backward()\n",
        "            optimizer.step()\n",
        "\n",
        "            running_loss += loss.item() * inputs.size(0)\n",
        "            _, predicted = torch.max(outputs, 1)\n",
        "            total += labels.size(0)\n",
        "            correct += (predicted == labels).sum().item()\n",
        "\n",
        "        epoch_loss = running_loss / len(train_loader.dataset)\n",
        "        epoch_acc = 100 * correct / total\n",
        "        print(f'Epoch {epoch+1}/{num_epochs}, Loss: {epoch_loss:.4f}, Accuracy: {epoch_acc:.2f}%')\n",
        "\n",
        "    return model\n"
      ],
      "metadata": {
        "id": "xy1d7ERNhGzO"
      },
      "execution_count": 8,
      "outputs": []
    },
    {
      "cell_type": "code",
      "source": [
        "def evaluate_model(model, loader):\n",
        "    model.eval()\n",
        "    correct = 0\n",
        "    total = 0\n",
        "\n",
        "    with torch.no_grad():\n",
        "        for inputs, labels in loader:\n",
        "            inputs, labels = inputs.to(device), labels.to(device)\n",
        "            outputs = model(inputs)\n",
        "            _, predicted = torch.max(outputs, 1)\n",
        "            total += labels.size(0)\n",
        "            correct += (predicted == labels).sum().item()\n",
        "\n",
        "    acc = 100 * correct / total\n",
        "    print(f'Accuracy: {acc:.2f}%')\n"
      ],
      "metadata": {
        "id": "SfK7uUzkhJ8X"
      },
      "execution_count": 9,
      "outputs": []
    },
    {
      "cell_type": "code",
      "source": [
        "# Train the model\n",
        "model = train_model(model, criterion, optimizer, num_epochs=10)\n",
        "\n",
        "# Validate the model\n",
        "print(\"Validation Accuracy:\")\n",
        "evaluate_model(model, val_loader)\n",
        "\n",
        "# Test the model (Optional)\n",
        "print(\"Test Accuracy:\")\n",
        "evaluate_model(model, test_loader)\n"
      ],
      "metadata": {
        "colab": {
          "base_uri": "https://localhost:8080/"
        },
        "id": "7fqRdaqthMKt",
        "outputId": "e3baa123-d226-43c8-c393-3e4136a21516"
      },
      "execution_count": 12,
      "outputs": [
        {
          "output_type": "stream",
          "name": "stdout",
          "text": [
            "Epoch 1/10, Loss: 2.7951, Accuracy: 27.40%\n",
            "Epoch 2/10, Loss: 2.3022, Accuracy: 38.36%\n",
            "Epoch 3/10, Loss: 1.9411, Accuracy: 47.70%\n",
            "Epoch 4/10, Loss: 1.7009, Accuracy: 52.98%\n",
            "Epoch 5/10, Loss: 1.4233, Accuracy: 59.80%\n",
            "Epoch 6/10, Loss: 1.2127, Accuracy: 64.97%\n",
            "Epoch 7/10, Loss: 0.9673, Accuracy: 72.01%\n",
            "Epoch 8/10, Loss: 0.7420, Accuracy: 78.39%\n",
            "Epoch 9/10, Loss: 0.5891, Accuracy: 82.55%\n",
            "Epoch 10/10, Loss: 0.4231, Accuracy: 87.04%\n",
            "Validation Accuracy:\n",
            "Accuracy: 56.37%\n",
            "Test Accuracy:\n",
            "Accuracy: 55.88%\n"
          ]
        }
      ]
    },
    {
      "cell_type": "code",
      "source": [
        "# Save the trained model\n",
        "torch.save(model.state_dict(), 'custom_resnet18_flowers102.pth')\n"
      ],
      "metadata": {
        "id": "SXzxcrJ-hzaN"
      },
      "execution_count": 13,
      "outputs": []
    }
  ]
}
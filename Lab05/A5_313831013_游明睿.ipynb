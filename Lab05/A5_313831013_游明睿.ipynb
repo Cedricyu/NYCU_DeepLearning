{
 "cells": [
  {
   "cell_type": "code",
   "execution_count": 75,
   "metadata": {},
   "outputs": [],
   "source": [
    "from torch.nn import TransformerEncoder, TransformerEncoderLayer, TransformerDecoder, TransformerDecoderLayer\n",
    "from torch.utils.data import DataLoader\n",
    "from torch.utils.data import Dataset\n",
    "from torch.nn import Transformer\n",
    "import torch.nn.functional as F\n",
    "from torch import Tensor\n",
    "from torch import nn\n",
    "import warnings\n",
    "import random\n",
    "import torch\n",
    "import math\n",
    "import yaml\n",
    "import json\n",
    "import os\n",
    "# warnings.filterwarnings(\"ignore\")"
   ]
  },
  {
   "cell_type": "code",
   "execution_count": 76,
   "metadata": {},
   "outputs": [],
   "source": [
    "class index2char():\n",
    "    def __init__(self, root, tokenizer=None):\n",
    "        if tokenizer is None:\n",
    "            with open(root + '/tokenizer.yaml', 'r') as f:\n",
    "                self.tokenizer = yaml.load(f, Loader=yaml.CLoader)\n",
    "        else:\n",
    "            self.tokenizer = tokenizer\n",
    "    \n",
    "    def __call__(self, indices:list, without_token=True):\n",
    "        if type(indices) == Tensor:\n",
    "            indices = indices.tolist()\n",
    "        result = ''.join([self.tokenizer['index_2_char'][i] for i in indices])\n",
    "        if without_token:\n",
    "            result = result.split('[eos]')[0]\n",
    "            result = result.replace('[sos]', '').replace('[eos]', '').replace('[pad]', '')\n",
    "        return result"
   ]
  },
  {
   "cell_type": "code",
   "execution_count": 77,
   "metadata": {},
   "outputs": [],
   "source": [
    "def metrics(pred:list, target:list) -> float:\n",
    "    \"\"\"\n",
    "    pred: list of strings\n",
    "    target: list of strings\n",
    "\n",
    "    return: accuracy(%)\n",
    "    \"\"\"\n",
    "    if len(pred) != len(target):\n",
    "        raise ValueError('length of pred and target must be the same')\n",
    "    correct = 0\n",
    "    for i in range(len(pred)):\n",
    "        if pred[i] == target[i]:\n",
    "            correct += 1\n",
    "    return correct / len(pred) * 100"
   ]
  },
  {
   "cell_type": "code",
   "execution_count": 78,
   "metadata": {},
   "outputs": [],
   "source": [
    "embedding_num = 31\n",
    "embedding_dim = 512\n",
    "num_layers = 8\n",
    "num_heads = 8\n",
    "ff_dim = 1024\n",
    "dropout = 0.1"
   ]
  },
  {
   "cell_type": "code",
   "execution_count": 79,
   "metadata": {},
   "outputs": [],
   "source": [
    "import torch\n",
    "from torch.utils.data import Dataset\n",
    "import json\n",
    "import yaml\n",
    "\n",
    "\n",
    "class SpellCorrectionDataset(Dataset):\n",
    "    def __init__(self, root, split:str = 'train', tokenizer=None, padding:int =0):\n",
    "        super(SpellCorrectionDataset, self).__init__()\n",
    "        #load your data here\n",
    "        self.padding = padding\n",
    "        \n",
    "        if tokenizer:\n",
    "            self.tokenizer = tokenizer.tokenizer\n",
    "        else:\n",
    "            with open(os.path.join(root, 'tokenizer.yaml'), 'r') as f:\n",
    "                self.tokenizer = yaml.safe_load(f)\n",
    "        \n",
    "        data_path = os.path.join(root, f'{split}.json')\n",
    "        with open(data_path, 'r') as f:\n",
    "            self.all_data = json.load(f)\n",
    "        self.data =[]\n",
    "        for line in range(len(self.all_data)):\n",
    "            for input in self.all_data[line]['input']:\n",
    "                self.data.append({'input':input,'target':self.all_data[line]['target']})\n",
    "                \n",
    "        # Add this line right after loading the tokenizer\n",
    "        # print(f\"Tokenizer structure: {self.tokenizer}\")\n",
    "\n",
    "        # Ensure 'char_2_index' is part of the tokenizer dictionary and is a dictionary itself\n",
    "        assert isinstance(self.tokenizer, dict), \"Tokenizer should be a dictionary.\"\n",
    "        assert 'char_2_index' in self.tokenizer, \"'char_2_index' not found in tokenizer.\"\n",
    "        assert isinstance(self.tokenizer['char_2_index'], dict), \"'char_2_index' should be a dictionary.\"\n",
    "\n",
    "    \n",
    "    def tokenize(self, text:str):\n",
    "        # tokenize your text here\n",
    "        # ex: \"data\" -> [4, 1, 20, 1]\n",
    "        \n",
    "        # 將文本轉換為索引序列\n",
    "        tokens = [27]\n",
    "        for char in text:\n",
    "            tokens.append(self.tokenizer['char_2_index'].get(char))\n",
    "\n",
    "\n",
    "        #在文本的最後面增加[eos]表示結尾\n",
    "        tokens.append(28)\n",
    "        # print(f\"tokens:{tokens}\")\n",
    "\n",
    "\n",
    "        # 根據指定的padding進行填充或截斷\n",
    "        if self.padding > 0:\n",
    "            tokens = tokens[:self.padding] + [0] * max(0, self.padding - len(tokens))  # 使用 0 進行填充\n",
    "        return tokens\n",
    "    \n",
    "    def __len__(self):\n",
    "        return len(self.data)\n",
    "\n",
    "    def __getitem__(self, index):\n",
    "        # get your data by index here\n",
    "        # ex: return input_ids, target_ids\n",
    "        # return type: torch.tensor\n",
    "        item = self.data[index]\n",
    "        input_text = item['input']\n",
    "        input_ids = self.tokenize(input_text)\n",
    "        target_text = item['target']\n",
    "        target_ids = self.tokenize(target_text)\n",
    "        # print(f\"input_ids={input_ids}\")\n",
    "        # print(f\"input_text={input_text}\")\n",
    "        # print(f\"target_text={target_text}\")\n",
    "        # print(f\"target_ids={target_ids}\")\n",
    "        return torch.tensor(input_ids, dtype=torch.long), torch.tensor(target_ids, dtype=torch.long)"
   ]
  },
  {
   "cell_type": "code",
   "execution_count": 80,
   "metadata": {},
   "outputs": [],
   "source": [
    "import torch\n",
    "import torch.nn as nn\n",
    "\n",
    "class PositionalEncoding(nn.Module):\n",
    "    def __init__(self, hid_dim, dropout, max_length, batch_first=True):\n",
    "        super(PositionalEncoding, self).__init__()\n",
    "        self.dropout = nn.Dropout(dropout)\n",
    "\n",
    "        position = torch.arange(0, max_length).unsqueeze(1)\n",
    "        div_term = torch.exp(torch.arange(0, hid_dim, 2) * (-torch.log(torch.tensor(10000.0)) / hid_dim))\n",
    "        \n",
    "        pos_encoding = torch.zeros(max_length, hid_dim)\n",
    "        pos_encoding[:, 0::2] = torch.sin(position * div_term)\n",
    "        pos_encoding[:, 1::2] = torch.cos(position * div_term)\n",
    "        pos_encoding = pos_encoding.unsqueeze(0)\n",
    "        \n",
    "        if batch_first:\n",
    "            pos_encoding = pos_encoding.transpose(0, 1)\n",
    "        \n",
    "        self.register_buffer('pos_encoding', pos_encoding)\n",
    "\n",
    "    def forward(self, x):\n",
    "        x = x + self.pos_encoding[:x.size(0), :]\n",
    "        return self.dropout(x)\n",
    "\n",
    "class Encoder(nn.Module):\n",
    "    def __init__(self, num_emb, hid_dim, n_layers, n_heads, ff_dim, dropout, max_length=100):\n",
    "        super(Encoder, self).__init__()\n",
    "        self.tok_embedding = nn.Embedding(num_emb, hid_dim)\n",
    "        self.pos_embedding = PositionalEncoding(hid_dim, dropout, max_length, batch_first=True)\n",
    "        \n",
    "        # Define Transformer Encoder Layer and Encoder\n",
    "        encoder_layer = nn.TransformerEncoderLayer(d_model=hid_dim, nhead=n_heads, dim_feedforward=ff_dim, dropout=dropout, batch_first=True)\n",
    "        self.encoder = nn.TransformerEncoder(encoder_layer, num_layers=n_layers)\n",
    "\n",
    "    def forward(self, src, src_mask=None, src_key_padding_mask=None):\n",
    "        # Apply embeddings and positional encoding\n",
    "        src = self.tok_embedding(src) * torch.sqrt(torch.tensor(self.tok_embedding.embedding_dim, dtype=torch.float32))\n",
    "        src = self.pos_embedding(src)\n",
    "        \n",
    "        # Pass through the Transformer Encoder\n",
    "        src = self.encoder(src, mask=src_mask, src_key_padding_mask=src_key_padding_mask)\n",
    "        return src\n",
    "\n",
    "class Decoder(nn.Module):\n",
    "    def __init__(self, num_emb, hid_dim, n_layers, n_heads, ff_dim, dropout, max_length=100):\n",
    "        super(Decoder, self).__init__()\n",
    "        self.tok_embedding = nn.Embedding(num_emb, hid_dim)\n",
    "        self.pos_embedding = PositionalEncoding(hid_dim, dropout, max_length, batch_first=True)\n",
    "        \n",
    "        # Define Transformer Decoder Layer and Decoder\n",
    "        decoder_layer = nn.TransformerDecoderLayer(d_model=hid_dim, nhead=n_heads, dim_feedforward=ff_dim, dropout=dropout, batch_first=True)\n",
    "        self.decoder = nn.TransformerDecoder(decoder_layer, num_layers=n_layers)\n",
    "\n",
    "    def forward(self, tgt, memory, tgt_mask=None, memory_mask=None, tgt_key_padding_mask=None, memory_key_padding_mask=None):\n",
    "        # Apply embeddings and positional encoding\n",
    "        tgt = self.tok_embedding(tgt) * 0.1  # Apply scaling factor\n",
    "        tgt = self.pos_embedding(tgt)\n",
    "        # print(\"tgt after embedding:\", tgt)  # Debugging line\n",
    "        \n",
    "        # Pass through the Transformer Decoder\n",
    "        output = self.decoder(tgt, memory, tgt_mask=tgt_mask, memory_mask=memory_mask, \n",
    "                              tgt_key_padding_mask=tgt_key_padding_mask, memory_key_padding_mask=memory_key_padding_mask)\n",
    "        # print(\"Decoder output after layer:\", output)  # Debugging line\n",
    "        return output\n",
    "\n",
    "class TransformerAutoEncoder(nn.Module):\n",
    "    def __init__(self, num_emb, hid_dim, n_layers, n_heads, ff_dim, dropout, max_length=100, encoder=None):\n",
    "        super(TransformerAutoEncoder, self).__init__()\n",
    "        # Initialize encoder and decoder\n",
    "        self.encoder = encoder if encoder else Encoder(num_emb, hid_dim, n_layers, n_heads, ff_dim, dropout, max_length)\n",
    "        self.decoder = Decoder(num_emb, hid_dim, n_layers, n_heads, ff_dim, dropout, max_length)\n",
    "        \n",
    "        # Fully connected layer to map decoder output to the range of 0-28 (vocab size)\n",
    "        self.fc_out = nn.Linear(hid_dim, num_emb)\n",
    "\n",
    "    def forward(self, src, tgt, src_pad_mask=None, tgt_mask=None, tgt_pad_mask=None):\n",
    "        # Encode the source sequence\n",
    "        enc_src = self.encoder(src, src_key_padding_mask=src_pad_mask)\n",
    "        # print(\"enc_src:\", enc_src)  # Check if this output is NaN\n",
    "        \n",
    "        # Decode the target sequence using the encoder output as memory\n",
    "        out = self.decoder(tgt, enc_src, tgt_mask=tgt_mask, memory_key_padding_mask=src_pad_mask, tgt_key_padding_mask=tgt_pad_mask)\n",
    "        # print(\"decoder out:\", out)  # Check if this output is NaN\n",
    "        \n",
    "        # Pass the decoder output through the fully connected layer to map to the output range\n",
    "        out = self.fc_out(out)\n",
    "        \n",
    "        return out\n",
    "\n",
    "\n"
   ]
  },
  {
   "cell_type": "code",
   "execution_count": 81,
   "metadata": {},
   "outputs": [],
   "source": [
    "def gen_padding_mask(src, pad_idx):\n",
    "    pad_mask = (src == pad_idx)\n",
    "    # print(pad_mask)\n",
    "    return pad_mask\n",
    "\n",
    "def gen_mask(seq):\n",
    "    seq_length = seq.size(1)\n",
    "    # Create a mask with `-inf` in the upper triangle and 0s elsewhere\n",
    "    mask = torch.triu(torch.ones((seq_length, seq_length)), diagonal=1).bool()\n",
    "    return mask\n",
    "\n",
    "def get_index(pred, dim=2):\n",
    "    return pred.clone().argmax(dim=dim)\n",
    "\n",
    "def random_change_idx(data: torch.Tensor, prob: float = 0.2):\n",
    "    # randomly change the index of the input data\n",
    "    return #sample\n",
    "\n",
    "def random_masked(data: torch.Tensor, prob: float = 0.2, mask_idx: int = 3):\n",
    "    # randomly mask the input data\n",
    "    return #sample"
   ]
  },
  {
   "cell_type": "markdown",
   "metadata": {},
   "source": [
    "# Pretrained encoder with random mask"
   ]
  },
  {
   "cell_type": "code",
   "execution_count": 82,
   "metadata": {},
   "outputs": [],
   "source": [
    "# You can try to pretrain the Encoder here!"
   ]
  },
  {
   "cell_type": "markdown",
   "metadata": {},
   "source": [
    "# Train our spelling correction transformer"
   ]
  },
  {
   "cell_type": "code",
   "execution_count": 83,
   "metadata": {},
   "outputs": [],
   "source": [
    "from tqdm import tqdm\n",
    "i2c = index2char('./data/')\n",
    "\n",
    "trainset = SpellCorrectionDataset('./data/', tokenizer=i2c, padding=22)\n",
    "trainloader = DataLoader(trainset, batch_size=32, shuffle=True)\n",
    "testset = SpellCorrectionDataset('./data/', split='new_test', tokenizer=i2c, padding=22)\n",
    "testloader = DataLoader(testset, batch_size=32, shuffle=False)\n",
    "valset = SpellCorrectionDataset('./data/', split='test', tokenizer=i2c, padding=22)\n",
    "valloader = DataLoader(valset, batch_size=32, shuffle=False)\n",
    "device = torch.device('cuda' if torch.cuda.is_available() else 'cpu')\n",
    "\n",
    "padding_token = 0  # Example index for padding\n",
    "sos_token = 1      # Example index for start-of-sequence\n",
    "ce_loss = torch.nn.CrossEntropyLoss(ignore_index=padding_token)\n"
   ]
  },
  {
   "cell_type": "code",
   "execution_count": 84,
   "metadata": {},
   "outputs": [],
   "source": [
    "def decode_indices(indices, i2c_func):\n",
    "    decoded = []\n",
    "    for idx in indices:\n",
    "        idx = idx.item()  # Convert tensor to integer\n",
    "        try:\n",
    "            decoded.append(i2c_func([idx]))  # Attempt to decode the index\n",
    "        except KeyError:\n",
    "            decoded.append(\"[UNK]\")  # Add unknown token placeholder if index is invalid\n",
    "    return decoded"
   ]
  },
  {
   "cell_type": "code",
   "execution_count": 85,
   "metadata": {},
   "outputs": [],
   "source": [
    "def validation(dataloader, model, device, logout=False):\n",
    "    pred_str_list = []\n",
    "    tgt_str_list = []\n",
    "    input_str_list = []\n",
    "    losses = []\n",
    "    for src, tgt in dataloader:\n",
    "            src, tgt = src.to(device), tgt.to(device)\n",
    "            tgt_input = torch.full_like(tgt, fill_value=0).to(device)  # Fill with padding token (e.g., 0)\n",
    "            # print(tgt_input.shape)\n",
    "            tgt_input[:, 0] = 27  # Replace the first token with the <sos> token index (assuming <sos> index is 27)\n",
    "            for i in range(tgt.shape[1]-1):\n",
    "                src_pad_mask = gen_padding_mask(src=src, pad_idx=0).to(device)\n",
    "                tgt_pad_mask = gen_padding_mask(src=tgt, pad_idx=0).to(device)\n",
    "                tgt_mask = gen_mask(tgt).to(device)\n",
    "                pred = model(src, tgt_input, src_pad_mask, tgt_mask, tgt_pad_mask)\n",
    "                # pred = <get the prediction idx from the model>\n",
    "                # print(pred)\n",
    "                # assign the prediction idx to the next token of tgt_input\n",
    "                next_token = get_index(pred=pred)\n",
    "\n",
    "                # Assign the predicted index to the next position in `tgt_input`\n",
    "                tgt_input[:, i+1] = next_token[:,i]\n",
    "                # print(tgt_input)\n",
    "            for i in range (tgt.shape[0]-1):\n",
    "                pred_str_list.append(i2c(tgt_input[i].tolist()))\n",
    "                tgt_str_list.append(i2c(tgt[i].tolist()))\n",
    "                input_str_list.append(i2c(src[i].tolist()))\n",
    "                if logout:\n",
    "                    print('='*30)\n",
    "                    print(f'input: {input_str_list[-1]}')\n",
    "                    print(f'pred: {pred_str_list[-1]}')\n",
    "                    print(f'target: {tgt_str_list[-1]}')\n",
    "            loss = ce_loss(pred[:, :-1, :].permute(0, 2, 1), tgt[:, 1:])\n",
    "            losses.append(loss.item())\n",
    "    print(f\"test_acc: {metrics(pred_str_list, tgt_str_list):.2f}\", f\"test_loss: {sum(losses)/len(losses):.2f}\", end=' | ')\n",
    "    print(f\"[pred: {pred_str_list[0]} target: {tgt_str_list[0]}]\")\n",
    "    return metrics(pred_str_list, tgt_str_list)"
   ]
  },
  {
   "cell_type": "code",
   "execution_count": 86,
   "metadata": {},
   "outputs": [],
   "source": [
    "import torch\n",
    "import torch.nn as nn\n",
    "import torch.optim as optim\n",
    "from tqdm import tqdm\n",
    "\n",
    "# Define model parameters\n",
    "embedding_num = 31  # vocab size or number of tokens\n",
    "embedding_dim = 512  # input embedding dimension\n",
    "num_layers = 6  # number of encoder/decoder layers\n",
    "num_heads = 8  # number of attention heads\n",
    "ff_dim = 2048  # feedforward layer dimension\n",
    "dropout = 0.1  # dropout rate\n",
    "\n",
    "# Define model components\n",
    "device = torch.device('cuda' if torch.cuda.is_available() else 'cpu')\n",
    "embedding_layer = nn.Embedding(embedding_num, embedding_dim).to(device)\n",
    "\n",
    "# Initialize your custom Transformer model\n",
    "model = TransformerAutoEncoder(\n",
    "    num_emb=embedding_num,\n",
    "    hid_dim=embedding_dim,\n",
    "    n_layers=num_layers,\n",
    "    n_heads=num_heads,\n",
    "    ff_dim=ff_dim,\n",
    "    dropout=dropout,\n",
    ").to(device)\n",
    "\n",
    "optimizer = optim.Adam(model.parameters(), lr=0.0001)\n",
    "ce_loss = nn.CrossEntropyLoss()\n",
    "scheduler = optim.lr_scheduler.StepLR(optimizer, step_size=30, gamma=0.1)\n"
   ]
  },
  {
   "cell_type": "code",
   "execution_count": 87,
   "metadata": {},
   "outputs": [],
   "source": [
    "loss_history = []\n",
    "blue_scores = []\n",
    "epochs = 100"
   ]
  },
  {
   "cell_type": "code",
   "execution_count": 88,
   "metadata": {},
   "outputs": [
    {
     "name": "stderr",
     "output_type": "stream",
     "text": [
      "epoch0:   0%|          | 0/404 [00:00<?, ?iter/s]"
     ]
    },
    {
     "name": "stderr",
     "output_type": "stream",
     "text": [
      "epoch0: 100%|██████████| 404/404 [00:13<00:00, 30.37iter/s, loss: 1.056]\n"
     ]
    },
    {
     "name": "stdout",
     "output_type": "stream",
     "text": [
      "test_acc: 0.00 test_loss: 1.78 | [pred: pacactit target: appreciate]\n",
      "test_acc: 0.00 test_loss: 1.66 | [pred: ponntennt target: contented]\n"
     ]
    },
    {
     "name": "stderr",
     "output_type": "stream",
     "text": [
      "epoch1: 100%|██████████| 404/404 [00:13<00:00, 30.46iter/s, loss: 0.668]\n"
     ]
    },
    {
     "name": "stdout",
     "output_type": "stream",
     "text": [
      "test_acc: 0.00 test_loss: 1.78 | [pred: paretice target: appreciate]\n",
      "test_acc: 2.08 test_loss: 1.72 | [pred: contente target: contented]\n"
     ]
    },
    {
     "name": "stderr",
     "output_type": "stream",
     "text": [
      "epoch2: 100%|██████████| 404/404 [00:13<00:00, 30.34iter/s, loss: 0.569]\n"
     ]
    },
    {
     "name": "stdout",
     "output_type": "stream",
     "text": [
      "test_acc: 0.00 test_loss: 1.65 | [pred: apperate target: appreciate]\n",
      "test_acc: 0.00 test_loss: 1.68 | [pred: condentent target: contented]\n"
     ]
    },
    {
     "name": "stderr",
     "output_type": "stream",
     "text": [
      "epoch3: 100%|██████████| 404/404 [00:12<00:00, 31.15iter/s, loss: 0.504]\n"
     ]
    },
    {
     "name": "stdout",
     "output_type": "stream",
     "text": [
      "test_acc: 2.08 test_loss: 1.74 | [pred: pateratice target: appreciate]\n",
      "test_acc: 2.08 test_loss: 1.80 | [pred: copentent target: contented]\n"
     ]
    },
    {
     "name": "stderr",
     "output_type": "stream",
     "text": [
      "epoch4: 100%|██████████| 404/404 [00:13<00:00, 30.89iter/s, loss: 0.461]\n"
     ]
    },
    {
     "name": "stdout",
     "output_type": "stream",
     "text": [
      "test_acc: 2.08 test_loss: 2.35 | [pred: paractice target: appreciate]\n",
      "test_acc: 6.25 test_loss: 2.23 | [pred: contectent target: contented]\n"
     ]
    },
    {
     "name": "stderr",
     "output_type": "stream",
     "text": [
      "epoch5: 100%|██████████| 404/404 [00:13<00:00, 30.54iter/s, loss: 0.424]\n"
     ]
    },
    {
     "name": "stdout",
     "output_type": "stream",
     "text": [
      "test_acc: 4.17 test_loss: 2.18 | [pred: apperatic target: appreciate]\n",
      "test_acc: 6.25 test_loss: 1.74 | [pred: decopent target: contented]\n"
     ]
    },
    {
     "name": "stderr",
     "output_type": "stream",
     "text": [
      "epoch6: 100%|██████████| 404/404 [00:12<00:00, 31.31iter/s, loss: 0.395]\n"
     ]
    },
    {
     "name": "stdout",
     "output_type": "stream",
     "text": [
      "test_acc: 4.17 test_loss: 2.17 | [pred: apperatice target: appreciate]\n",
      "test_acc: 12.50 test_loss: 2.40 | [pred: contented target: contented]\n"
     ]
    },
    {
     "name": "stderr",
     "output_type": "stream",
     "text": [
      "epoch7: 100%|██████████| 404/404 [00:12<00:00, 31.11iter/s, loss: 0.368]\n"
     ]
    },
    {
     "name": "stdout",
     "output_type": "stream",
     "text": [
      "test_acc: 2.08 test_loss: 2.53 | [pred: appericiate target: appreciate]\n",
      "test_acc: 14.58 test_loss: 2.17 | [pred: contentend target: contented]\n"
     ]
    },
    {
     "name": "stderr",
     "output_type": "stream",
     "text": [
      "epoch8: 100%|██████████| 404/404 [00:12<00:00, 31.28iter/s, loss: 0.341]\n"
     ]
    },
    {
     "name": "stdout",
     "output_type": "stream",
     "text": [
      "test_acc: 10.42 test_loss: 2.28 | [pred: apprectiate target: appreciate]\n",
      "test_acc: 22.92 test_loss: 2.38 | [pred: contented target: contented]\n"
     ]
    },
    {
     "name": "stderr",
     "output_type": "stream",
     "text": [
      "epoch9: 100%|██████████| 404/404 [00:12<00:00, 31.15iter/s, loss: 0.318]\n"
     ]
    },
    {
     "name": "stdout",
     "output_type": "stream",
     "text": [
      "test_acc: 14.58 test_loss: 2.13 | [pred: appreciate target: appreciate]\n",
      "test_acc: 18.75 test_loss: 2.08 | [pred: contendent target: contented]\n"
     ]
    },
    {
     "name": "stderr",
     "output_type": "stream",
     "text": [
      "epoch10: 100%|██████████| 404/404 [00:13<00:00, 30.68iter/s, loss: 0.299]\n"
     ]
    },
    {
     "name": "stdout",
     "output_type": "stream",
     "text": [
      "test_acc: 12.50 test_loss: 2.58 | [pred: apperticiate target: appreciate]\n",
      "test_acc: 29.17 test_loss: 2.08 | [pred: contipent target: contented]\n"
     ]
    },
    {
     "name": "stderr",
     "output_type": "stream",
     "text": [
      "epoch11: 100%|██████████| 404/404 [00:13<00:00, 30.90iter/s, loss: 0.277]\n"
     ]
    },
    {
     "name": "stdout",
     "output_type": "stream",
     "text": [
      "test_acc: 10.42 test_loss: 2.43 | [pred: appreciate target: appreciate]\n",
      "test_acc: 22.92 test_loss: 2.61 | [pred: conteptent target: contented]\n"
     ]
    },
    {
     "name": "stderr",
     "output_type": "stream",
     "text": [
      "epoch12: 100%|██████████| 404/404 [00:13<00:00, 30.85iter/s, loss: 0.260]\n"
     ]
    },
    {
     "name": "stdout",
     "output_type": "stream",
     "text": [
      "test_acc: 14.58 test_loss: 3.24 | [pred: approxiate target: appreciate]\n",
      "test_acc: 29.17 test_loss: 2.00 | [pred: conpeted target: contented]\n"
     ]
    },
    {
     "name": "stderr",
     "output_type": "stream",
     "text": [
      "epoch13: 100%|██████████| 404/404 [00:13<00:00, 30.83iter/s, loss: 0.242]\n"
     ]
    },
    {
     "name": "stdout",
     "output_type": "stream",
     "text": [
      "test_acc: 18.75 test_loss: 3.04 | [pred: appreciate target: appreciate]\n",
      "test_acc: 37.50 test_loss: 2.10 | [pred: contended target: contented]\n"
     ]
    },
    {
     "name": "stderr",
     "output_type": "stream",
     "text": [
      "epoch14: 100%|██████████| 404/404 [00:13<00:00, 30.74iter/s, loss: 0.228]\n"
     ]
    },
    {
     "name": "stdout",
     "output_type": "stream",
     "text": [
      "test_acc: 27.08 test_loss: 2.32 | [pred: appreciate target: appreciate]\n",
      "test_acc: 39.58 test_loss: 2.22 | [pred: contented target: contented]\n"
     ]
    },
    {
     "name": "stderr",
     "output_type": "stream",
     "text": [
      "epoch15: 100%|██████████| 404/404 [00:13<00:00, 31.00iter/s, loss: 0.209]\n"
     ]
    },
    {
     "name": "stdout",
     "output_type": "stream",
     "text": [
      "test_acc: 22.92 test_loss: 2.34 | [pred: appreciate target: appreciate]\n",
      "test_acc: 43.75 test_loss: 1.84 | [pred: contented target: contented]\n"
     ]
    },
    {
     "name": "stderr",
     "output_type": "stream",
     "text": [
      "epoch16: 100%|██████████| 404/404 [00:13<00:00, 30.64iter/s, loss: 0.198]\n"
     ]
    },
    {
     "name": "stdout",
     "output_type": "stream",
     "text": [
      "test_acc: 20.83 test_loss: 2.63 | [pred: appreciate target: appreciate]\n",
      "test_acc: 43.75 test_loss: 2.42 | [pred: contented target: contented]\n"
     ]
    },
    {
     "name": "stderr",
     "output_type": "stream",
     "text": [
      "epoch17: 100%|██████████| 404/404 [00:13<00:00, 30.77iter/s, loss: 0.188]\n"
     ]
    },
    {
     "name": "stdout",
     "output_type": "stream",
     "text": [
      "test_acc: 25.00 test_loss: 2.88 | [pred: apperate target: appreciate]\n",
      "test_acc: 50.00 test_loss: 2.73 | [pred: inconvenient target: contented]\n"
     ]
    },
    {
     "name": "stderr",
     "output_type": "stream",
     "text": [
      "epoch18: 100%|██████████| 404/404 [00:13<00:00, 30.63iter/s, loss: 0.175]\n"
     ]
    },
    {
     "name": "stdout",
     "output_type": "stream",
     "text": [
      "test_acc: 20.83 test_loss: 2.90 | [pred: appreatic target: appreciate]\n",
      "test_acc: 41.67 test_loss: 2.19 | [pred: pronextent target: contented]\n"
     ]
    },
    {
     "name": "stderr",
     "output_type": "stream",
     "text": [
      "epoch19: 100%|██████████| 404/404 [00:13<00:00, 30.38iter/s, loss: 0.166]\n"
     ]
    },
    {
     "name": "stdout",
     "output_type": "stream",
     "text": [
      "test_acc: 22.92 test_loss: 2.88 | [pred: appreciate target: appreciate]\n",
      "test_acc: 54.17 test_loss: 2.49 | [pred: conceptented target: contented]\n"
     ]
    },
    {
     "name": "stderr",
     "output_type": "stream",
     "text": [
      "epoch20: 100%|██████████| 404/404 [00:13<00:00, 30.38iter/s, loss: 0.157]\n"
     ]
    },
    {
     "name": "stdout",
     "output_type": "stream",
     "text": [
      "test_acc: 18.75 test_loss: 2.44 | [pred: approciate target: appreciate]\n",
      "test_acc: 62.50 test_loss: 1.30 | [pred: contempted target: contented]\n"
     ]
    },
    {
     "name": "stderr",
     "output_type": "stream",
     "text": [
      "epoch21: 100%|██████████| 404/404 [00:13<00:00, 30.88iter/s, loss: 0.150]\n"
     ]
    },
    {
     "name": "stdout",
     "output_type": "stream",
     "text": [
      "test_acc: 29.17 test_loss: 2.79 | [pred: appreciate target: appreciate]\n",
      "test_acc: 54.17 test_loss: 2.25 | [pred: contented target: contented]\n"
     ]
    },
    {
     "name": "stderr",
     "output_type": "stream",
     "text": [
      "epoch22: 100%|██████████| 404/404 [00:13<00:00, 30.92iter/s, loss: 0.140]\n"
     ]
    },
    {
     "name": "stdout",
     "output_type": "stream",
     "text": [
      "test_acc: 27.08 test_loss: 3.10 | [pred: appreciate target: appreciate]\n",
      "test_acc: 68.75 test_loss: 1.90 | [pred: contented target: contented]\n"
     ]
    },
    {
     "name": "stderr",
     "output_type": "stream",
     "text": [
      "epoch23: 100%|██████████| 404/404 [00:13<00:00, 30.80iter/s, loss: 0.134]\n"
     ]
    },
    {
     "name": "stdout",
     "output_type": "stream",
     "text": [
      "test_acc: 29.17 test_loss: 3.36 | [pred: approximate target: appreciate]\n",
      "test_acc: 62.50 test_loss: 2.89 | [pred: contented target: contented]\n"
     ]
    },
    {
     "name": "stderr",
     "output_type": "stream",
     "text": [
      "epoch24: 100%|██████████| 404/404 [00:13<00:00, 30.35iter/s, loss: 0.129]\n"
     ]
    },
    {
     "name": "stdout",
     "output_type": "stream",
     "text": [
      "test_acc: 31.25 test_loss: 3.05 | [pred: appreciate target: appreciate]\n",
      "test_acc: 68.75 test_loss: 1.63 | [pred: condeption target: contented]\n"
     ]
    },
    {
     "name": "stderr",
     "output_type": "stream",
     "text": [
      "epoch25: 100%|██████████| 404/404 [00:13<00:00, 30.93iter/s, loss: 0.122]\n"
     ]
    },
    {
     "name": "stdout",
     "output_type": "stream",
     "text": [
      "test_acc: 39.58 test_loss: 2.87 | [pred: appreciate target: appreciate]\n",
      "test_acc: 77.08 test_loss: 1.06 | [pred: contempted target: contented]\n"
     ]
    },
    {
     "name": "stderr",
     "output_type": "stream",
     "text": [
      "epoch26: 100%|██████████| 404/404 [00:13<00:00, 30.46iter/s, loss: 0.117]\n"
     ]
    },
    {
     "name": "stdout",
     "output_type": "stream",
     "text": [
      "test_acc: 35.42 test_loss: 2.18 | [pred: appreciate target: appreciate]\n",
      "test_acc: 66.67 test_loss: 1.99 | [pred: content target: contented]\n"
     ]
    },
    {
     "name": "stderr",
     "output_type": "stream",
     "text": [
      "epoch27: 100%|██████████| 404/404 [00:13<00:00, 30.31iter/s, loss: 0.115]\n"
     ]
    },
    {
     "name": "stdout",
     "output_type": "stream",
     "text": [
      "test_acc: 43.75 test_loss: 2.33 | [pred: appreciate target: appreciate]\n",
      "test_acc: 77.08 test_loss: 0.72 | [pred: concepted target: contented]\n"
     ]
    },
    {
     "name": "stderr",
     "output_type": "stream",
     "text": [
      "epoch28: 100%|██████████| 404/404 [00:12<00:00, 31.13iter/s, loss: 0.117]\n"
     ]
    },
    {
     "name": "stdout",
     "output_type": "stream",
     "text": [
      "test_acc: 33.33 test_loss: 2.97 | [pred: appreciate target: appreciate]\n",
      "test_acc: 75.00 test_loss: 1.43 | [pred: concepted target: contented]\n"
     ]
    },
    {
     "name": "stderr",
     "output_type": "stream",
     "text": [
      "epoch29: 100%|██████████| 404/404 [00:13<00:00, 30.67iter/s, loss: 0.103]\n"
     ]
    },
    {
     "name": "stdout",
     "output_type": "stream",
     "text": [
      "test_acc: 37.50 test_loss: 3.13 | [pred: appreciate target: appreciate]\n",
      "test_acc: 72.92 test_loss: 1.01 | [pred: convented target: contented]\n"
     ]
    },
    {
     "name": "stderr",
     "output_type": "stream",
     "text": [
      "epoch30: 100%|██████████| 404/404 [00:13<00:00, 30.95iter/s, loss: 0.071]\n"
     ]
    },
    {
     "name": "stdout",
     "output_type": "stream",
     "text": [
      "test_acc: 37.50 test_loss: 2.51 | [pred: appreciate target: appreciate]\n",
      "test_acc: 85.42 test_loss: 0.84 | [pred: contented target: contented]\n"
     ]
    },
    {
     "name": "stderr",
     "output_type": "stream",
     "text": [
      "epoch31: 100%|██████████| 404/404 [00:12<00:00, 31.23iter/s, loss: 0.059]\n"
     ]
    },
    {
     "name": "stdout",
     "output_type": "stream",
     "text": [
      "test_acc: 37.50 test_loss: 2.80 | [pred: appreciate target: appreciate]\n",
      "test_acc: 89.58 test_loss: 0.49 | [pred: contented target: contented]\n"
     ]
    },
    {
     "name": "stderr",
     "output_type": "stream",
     "text": [
      "epoch32: 100%|██████████| 404/404 [00:13<00:00, 30.64iter/s, loss: 0.054]\n"
     ]
    },
    {
     "name": "stdout",
     "output_type": "stream",
     "text": [
      "test_acc: 39.58 test_loss: 2.92 | [pred: appreciate target: appreciate]\n",
      "test_acc: 87.50 test_loss: 0.60 | [pred: contented target: contented]\n"
     ]
    },
    {
     "name": "stderr",
     "output_type": "stream",
     "text": [
      "epoch33: 100%|██████████| 404/404 [00:13<00:00, 30.58iter/s, loss: 0.052]\n"
     ]
    },
    {
     "name": "stdout",
     "output_type": "stream",
     "text": [
      "test_acc: 37.50 test_loss: 2.58 | [pred: appreciate target: appreciate]\n",
      "test_acc: 83.33 test_loss: 1.01 | [pred: contented target: contented]\n"
     ]
    },
    {
     "name": "stderr",
     "output_type": "stream",
     "text": [
      "epoch34: 100%|██████████| 404/404 [00:13<00:00, 30.79iter/s, loss: 0.050]\n"
     ]
    },
    {
     "name": "stdout",
     "output_type": "stream",
     "text": [
      "test_acc: 41.67 test_loss: 2.80 | [pred: appreciate target: appreciate]\n",
      "test_acc: 87.50 test_loss: 0.81 | [pred: contented target: contented]\n"
     ]
    },
    {
     "name": "stderr",
     "output_type": "stream",
     "text": [
      "epoch35: 100%|██████████| 404/404 [00:13<00:00, 31.04iter/s, loss: 0.048]\n"
     ]
    },
    {
     "name": "stdout",
     "output_type": "stream",
     "text": [
      "test_acc: 39.58 test_loss: 2.89 | [pred: appreciate target: appreciate]\n",
      "test_acc: 87.50 test_loss: 0.57 | [pred: contented target: contented]\n"
     ]
    },
    {
     "name": "stderr",
     "output_type": "stream",
     "text": [
      "epoch36: 100%|██████████| 404/404 [00:12<00:00, 31.08iter/s, loss: 0.047]\n"
     ]
    },
    {
     "name": "stdout",
     "output_type": "stream",
     "text": [
      "test_acc: 37.50 test_loss: 3.15 | [pred: appreciate target: appreciate]\n",
      "test_acc: 91.67 test_loss: 0.34 | [pred: contented target: contented]\n"
     ]
    },
    {
     "name": "stderr",
     "output_type": "stream",
     "text": [
      "epoch37: 100%|██████████| 404/404 [00:13<00:00, 30.77iter/s, loss: 0.045]\n"
     ]
    },
    {
     "name": "stdout",
     "output_type": "stream",
     "text": [
      "test_acc: 37.50 test_loss: 2.87 | [pred: appreciate target: appreciate]\n",
      "test_acc: 85.42 test_loss: 0.87 | [pred: contented target: contented]\n"
     ]
    },
    {
     "name": "stderr",
     "output_type": "stream",
     "text": [
      "epoch38: 100%|██████████| 404/404 [00:13<00:00, 30.61iter/s, loss: 0.046]\n"
     ]
    },
    {
     "name": "stdout",
     "output_type": "stream",
     "text": [
      "test_acc: 43.75 test_loss: 2.43 | [pred: appreciate target: appreciate]\n",
      "test_acc: 87.50 test_loss: 0.74 | [pred: contented target: contented]\n"
     ]
    },
    {
     "name": "stderr",
     "output_type": "stream",
     "text": [
      "epoch39: 100%|██████████| 404/404 [00:13<00:00, 30.72iter/s, loss: 0.044]\n"
     ]
    },
    {
     "name": "stdout",
     "output_type": "stream",
     "text": [
      "test_acc: 41.67 test_loss: 2.61 | [pred: appreciate target: appreciate]\n",
      "test_acc: 85.42 test_loss: 0.78 | [pred: contented target: contented]\n"
     ]
    },
    {
     "name": "stderr",
     "output_type": "stream",
     "text": [
      "epoch40: 100%|██████████| 404/404 [00:13<00:00, 30.50iter/s, loss: 0.043]\n"
     ]
    },
    {
     "name": "stdout",
     "output_type": "stream",
     "text": [
      "test_acc: 41.67 test_loss: 2.72 | [pred: appreciate target: appreciate]\n",
      "test_acc: 89.58 test_loss: 0.77 | [pred: contented target: contented]\n"
     ]
    },
    {
     "name": "stderr",
     "output_type": "stream",
     "text": [
      "epoch41: 100%|██████████| 404/404 [00:13<00:00, 30.60iter/s, loss: 0.042]\n"
     ]
    },
    {
     "name": "stdout",
     "output_type": "stream",
     "text": [
      "test_acc: 43.75 test_loss: 2.82 | [pred: appreciate target: appreciate]\n",
      "test_acc: 87.50 test_loss: 0.79 | [pred: contented target: contented]\n"
     ]
    },
    {
     "name": "stderr",
     "output_type": "stream",
     "text": [
      "epoch42: 100%|██████████| 404/404 [00:13<00:00, 30.53iter/s, loss: 0.042]\n"
     ]
    },
    {
     "name": "stdout",
     "output_type": "stream",
     "text": [
      "test_acc: 41.67 test_loss: 2.72 | [pred: appreciate target: appreciate]\n",
      "test_acc: 85.42 test_loss: 0.95 | [pred: contented target: contented]\n"
     ]
    },
    {
     "name": "stderr",
     "output_type": "stream",
     "text": [
      "epoch43: 100%|██████████| 404/404 [00:13<00:00, 30.56iter/s, loss: 0.041]\n"
     ]
    },
    {
     "name": "stdout",
     "output_type": "stream",
     "text": [
      "test_acc: 43.75 test_loss: 2.84 | [pred: appreciate target: appreciate]\n",
      "test_acc: 89.58 test_loss: 0.80 | [pred: contented target: contented]\n"
     ]
    },
    {
     "name": "stderr",
     "output_type": "stream",
     "text": [
      "epoch44: 100%|██████████| 404/404 [00:12<00:00, 31.47iter/s, loss: 0.040]\n"
     ]
    },
    {
     "name": "stdout",
     "output_type": "stream",
     "text": [
      "test_acc: 43.75 test_loss: 2.95 | [pred: appreciate target: appreciate]\n",
      "test_acc: 89.58 test_loss: 0.74 | [pred: contented target: contented]\n"
     ]
    },
    {
     "name": "stderr",
     "output_type": "stream",
     "text": [
      "epoch45: 100%|██████████| 404/404 [00:13<00:00, 30.67iter/s, loss: 0.039]\n"
     ]
    },
    {
     "name": "stdout",
     "output_type": "stream",
     "text": [
      "test_acc: 41.67 test_loss: 2.50 | [pred: appreciate target: appreciate]\n",
      "test_acc: 93.75 test_loss: 0.25 | [pred: contented target: contented]\n"
     ]
    },
    {
     "name": "stderr",
     "output_type": "stream",
     "text": [
      "epoch46: 100%|██████████| 404/404 [00:13<00:00, 30.50iter/s, loss: 0.039]\n"
     ]
    },
    {
     "name": "stdout",
     "output_type": "stream",
     "text": [
      "test_acc: 37.50 test_loss: 3.09 | [pred: appreciate target: appreciate]\n",
      "test_acc: 87.50 test_loss: 0.72 | [pred: contented target: contented]\n"
     ]
    },
    {
     "name": "stderr",
     "output_type": "stream",
     "text": [
      "epoch47: 100%|██████████| 404/404 [00:13<00:00, 30.92iter/s, loss: 0.038]\n"
     ]
    },
    {
     "name": "stdout",
     "output_type": "stream",
     "text": [
      "test_acc: 45.83 test_loss: 2.72 | [pred: appreciate target: appreciate]\n",
      "test_acc: 87.50 test_loss: 0.94 | [pred: contented target: contented]\n"
     ]
    },
    {
     "name": "stderr",
     "output_type": "stream",
     "text": [
      "epoch48: 100%|██████████| 404/404 [00:13<00:00, 30.62iter/s, loss: 0.038]\n"
     ]
    },
    {
     "name": "stdout",
     "output_type": "stream",
     "text": [
      "test_acc: 43.75 test_loss: 2.79 | [pred: appreciate target: appreciate]\n",
      "test_acc: 87.50 test_loss: 1.04 | [pred: contented target: contented]\n"
     ]
    },
    {
     "name": "stderr",
     "output_type": "stream",
     "text": [
      "epoch49: 100%|██████████| 404/404 [00:13<00:00, 30.84iter/s, loss: 0.037]\n"
     ]
    },
    {
     "name": "stdout",
     "output_type": "stream",
     "text": [
      "test_acc: 47.92 test_loss: 3.04 | [pred: appreciate target: appreciate]\n",
      "test_acc: 89.58 test_loss: 0.68 | [pred: contented target: contented]\n"
     ]
    },
    {
     "name": "stderr",
     "output_type": "stream",
     "text": [
      "epoch50: 100%|██████████| 404/404 [00:13<00:00, 30.61iter/s, loss: 0.037]\n"
     ]
    },
    {
     "name": "stdout",
     "output_type": "stream",
     "text": [
      "test_acc: 50.00 test_loss: 2.65 | [pred: appreciate target: appreciate]\n",
      "test_acc: 85.42 test_loss: 0.89 | [pred: contented target: contented]\n"
     ]
    },
    {
     "name": "stderr",
     "output_type": "stream",
     "text": [
      "epoch51: 100%|██████████| 404/404 [00:13<00:00, 30.55iter/s, loss: 0.037]\n"
     ]
    },
    {
     "name": "stdout",
     "output_type": "stream",
     "text": [
      "test_acc: 47.92 test_loss: 2.22 | [pred: appreciate target: appreciate]\n",
      "test_acc: 85.42 test_loss: 0.83 | [pred: contented target: contented]\n"
     ]
    },
    {
     "name": "stderr",
     "output_type": "stream",
     "text": [
      "epoch52: 100%|██████████| 404/404 [00:13<00:00, 31.04iter/s, loss: 0.036]\n"
     ]
    },
    {
     "name": "stdout",
     "output_type": "stream",
     "text": [
      "test_acc: 45.83 test_loss: 2.68 | [pred: appreciate target: appreciate]\n",
      "test_acc: 89.58 test_loss: 0.64 | [pred: contented target: contented]\n"
     ]
    },
    {
     "name": "stderr",
     "output_type": "stream",
     "text": [
      "epoch53: 100%|██████████| 404/404 [00:13<00:00, 30.46iter/s, loss: 0.036]\n"
     ]
    },
    {
     "name": "stdout",
     "output_type": "stream",
     "text": [
      "test_acc: 45.83 test_loss: 3.00 | [pred: appreciate target: appreciate]\n",
      "test_acc: 89.58 test_loss: 0.65 | [pred: contented target: contented]\n"
     ]
    },
    {
     "name": "stderr",
     "output_type": "stream",
     "text": [
      "epoch54: 100%|██████████| 404/404 [00:13<00:00, 30.91iter/s, loss: 0.035]\n"
     ]
    },
    {
     "name": "stdout",
     "output_type": "stream",
     "text": [
      "test_acc: 41.67 test_loss: 3.58 | [pred: appreciate target: appreciate]\n",
      "test_acc: 87.50 test_loss: 0.82 | [pred: contented target: contented]\n"
     ]
    },
    {
     "name": "stderr",
     "output_type": "stream",
     "text": [
      "epoch55: 100%|██████████| 404/404 [00:12<00:00, 31.29iter/s, loss: 0.035]\n"
     ]
    },
    {
     "name": "stdout",
     "output_type": "stream",
     "text": [
      "test_acc: 39.58 test_loss: 3.34 | [pred: appreciate target: appreciate]\n",
      "test_acc: 89.58 test_loss: 0.66 | [pred: contented target: contented]\n"
     ]
    },
    {
     "name": "stderr",
     "output_type": "stream",
     "text": [
      "epoch56: 100%|██████████| 404/404 [00:13<00:00, 30.50iter/s, loss: 0.034]\n"
     ]
    },
    {
     "name": "stdout",
     "output_type": "stream",
     "text": [
      "test_acc: 43.75 test_loss: 3.23 | [pred: appreciate target: appreciate]\n",
      "test_acc: 93.75 test_loss: 0.49 | [pred: contented target: contented]\n"
     ]
    },
    {
     "name": "stderr",
     "output_type": "stream",
     "text": [
      "epoch57: 100%|██████████| 404/404 [00:13<00:00, 30.46iter/s, loss: 0.034]\n"
     ]
    },
    {
     "name": "stdout",
     "output_type": "stream",
     "text": [
      "test_acc: 45.83 test_loss: 2.73 | [pred: appreciate target: appreciate]\n",
      "test_acc: 89.58 test_loss: 0.73 | [pred: contented target: contented]\n"
     ]
    },
    {
     "name": "stderr",
     "output_type": "stream",
     "text": [
      "epoch58: 100%|██████████| 404/404 [00:13<00:00, 30.73iter/s, loss: 0.033]\n"
     ]
    },
    {
     "name": "stdout",
     "output_type": "stream",
     "text": [
      "test_acc: 41.67 test_loss: 3.34 | [pred: appreciate target: appreciate]\n",
      "test_acc: 89.58 test_loss: 0.63 | [pred: contented target: contented]\n"
     ]
    },
    {
     "name": "stderr",
     "output_type": "stream",
     "text": [
      "epoch59: 100%|██████████| 404/404 [00:13<00:00, 30.66iter/s, loss: 0.033]\n"
     ]
    },
    {
     "name": "stdout",
     "output_type": "stream",
     "text": [
      "test_acc: 47.92 test_loss: 3.10 | [pred: appreciate target: appreciate]\n",
      "test_acc: 89.58 test_loss: 0.65 | [pred: contented target: contented]\n"
     ]
    },
    {
     "name": "stderr",
     "output_type": "stream",
     "text": [
      "epoch60: 100%|██████████| 404/404 [00:12<00:00, 31.15iter/s, loss: 0.031]\n"
     ]
    },
    {
     "name": "stdout",
     "output_type": "stream",
     "text": [
      "test_acc: 47.92 test_loss: 2.67 | [pred: appreciate target: appreciate]\n",
      "test_acc: 91.67 test_loss: 0.61 | [pred: contented target: contented]\n"
     ]
    },
    {
     "name": "stderr",
     "output_type": "stream",
     "text": [
      "epoch61: 100%|██████████| 404/404 [00:13<00:00, 30.46iter/s, loss: 0.030]\n"
     ]
    },
    {
     "name": "stdout",
     "output_type": "stream",
     "text": [
      "test_acc: 47.92 test_loss: 2.67 | [pred: appreciate target: appreciate]\n",
      "test_acc: 89.58 test_loss: 0.65 | [pred: contented target: contented]\n"
     ]
    },
    {
     "name": "stderr",
     "output_type": "stream",
     "text": [
      "epoch62: 100%|██████████| 404/404 [00:13<00:00, 30.97iter/s, loss: 0.030]\n"
     ]
    },
    {
     "name": "stdout",
     "output_type": "stream",
     "text": [
      "test_acc: 50.00 test_loss: 2.57 | [pred: appreciate target: appreciate]\n",
      "test_acc: 89.58 test_loss: 0.65 | [pred: contented target: contented]\n"
     ]
    },
    {
     "name": "stderr",
     "output_type": "stream",
     "text": [
      "epoch63: 100%|██████████| 404/404 [00:13<00:00, 30.85iter/s, loss: 0.029]\n"
     ]
    },
    {
     "name": "stdout",
     "output_type": "stream",
     "text": [
      "test_acc: 52.08 test_loss: 2.46 | [pred: appreciate target: appreciate]\n",
      "test_acc: 89.58 test_loss: 0.64 | [pred: contented target: contented]\n"
     ]
    },
    {
     "name": "stderr",
     "output_type": "stream",
     "text": [
      "epoch64: 100%|██████████| 404/404 [00:13<00:00, 31.05iter/s, loss: 0.030]\n"
     ]
    },
    {
     "name": "stdout",
     "output_type": "stream",
     "text": [
      "test_acc: 47.92 test_loss: 2.66 | [pred: appreciate target: appreciate]\n",
      "test_acc: 89.58 test_loss: 0.67 | [pred: contented target: contented]\n"
     ]
    },
    {
     "name": "stderr",
     "output_type": "stream",
     "text": [
      "epoch65: 100%|██████████| 404/404 [00:13<00:00, 30.71iter/s, loss: 0.029]\n"
     ]
    },
    {
     "name": "stdout",
     "output_type": "stream",
     "text": [
      "test_acc: 50.00 test_loss: 2.61 | [pred: appreciate target: appreciate]\n",
      "test_acc: 89.58 test_loss: 0.64 | [pred: contented target: contented]\n"
     ]
    },
    {
     "name": "stderr",
     "output_type": "stream",
     "text": [
      "epoch66: 100%|██████████| 404/404 [00:13<00:00, 29.99iter/s, loss: 0.029]\n"
     ]
    },
    {
     "name": "stdout",
     "output_type": "stream",
     "text": [
      "test_acc: 50.00 test_loss: 2.62 | [pred: appreciate target: appreciate]\n",
      "test_acc: 89.58 test_loss: 0.67 | [pred: contented target: contented]\n"
     ]
    },
    {
     "name": "stderr",
     "output_type": "stream",
     "text": [
      "epoch67: 100%|██████████| 404/404 [00:12<00:00, 31.28iter/s, loss: 0.029]\n"
     ]
    },
    {
     "name": "stdout",
     "output_type": "stream",
     "text": [
      "test_acc: 50.00 test_loss: 2.63 | [pred: appreciate target: appreciate]\n",
      "test_acc: 89.58 test_loss: 0.64 | [pred: contented target: contented]\n"
     ]
    },
    {
     "name": "stderr",
     "output_type": "stream",
     "text": [
      "epoch68: 100%|██████████| 404/404 [00:13<00:00, 30.57iter/s, loss: 0.029]\n"
     ]
    },
    {
     "name": "stdout",
     "output_type": "stream",
     "text": [
      "test_acc: 50.00 test_loss: 2.56 | [pred: appreciate target: appreciate]\n",
      "test_acc: 89.58 test_loss: 0.64 | [pred: contented target: contented]\n"
     ]
    },
    {
     "name": "stderr",
     "output_type": "stream",
     "text": [
      "epoch69: 100%|██████████| 404/404 [00:13<00:00, 30.29iter/s, loss: 0.029]\n"
     ]
    },
    {
     "name": "stdout",
     "output_type": "stream",
     "text": [
      "test_acc: 52.08 test_loss: 2.48 | [pred: appreciate target: appreciate]\n",
      "test_acc: 89.58 test_loss: 0.67 | [pred: contented target: contented]\n"
     ]
    },
    {
     "name": "stderr",
     "output_type": "stream",
     "text": [
      "epoch70: 100%|██████████| 404/404 [00:13<00:00, 30.28iter/s, loss: 0.029]\n"
     ]
    },
    {
     "name": "stdout",
     "output_type": "stream",
     "text": [
      "test_acc: 50.00 test_loss: 2.57 | [pred: appreciate target: appreciate]\n",
      "test_acc: 89.58 test_loss: 0.64 | [pred: contented target: contented]\n"
     ]
    },
    {
     "name": "stderr",
     "output_type": "stream",
     "text": [
      "epoch71: 100%|██████████| 404/404 [00:13<00:00, 30.67iter/s, loss: 0.029]\n"
     ]
    },
    {
     "name": "stdout",
     "output_type": "stream",
     "text": [
      "test_acc: 50.00 test_loss: 2.58 | [pred: appreciate target: appreciate]\n",
      "test_acc: 89.58 test_loss: 0.68 | [pred: contented target: contented]\n"
     ]
    },
    {
     "name": "stderr",
     "output_type": "stream",
     "text": [
      "epoch72: 100%|██████████| 404/404 [00:13<00:00, 30.58iter/s, loss: 0.029]\n"
     ]
    },
    {
     "name": "stdout",
     "output_type": "stream",
     "text": [
      "test_acc: 52.08 test_loss: 2.46 | [pred: appreciate target: appreciate]\n",
      "test_acc: 89.58 test_loss: 0.65 | [pred: contented target: contented]\n"
     ]
    },
    {
     "name": "stderr",
     "output_type": "stream",
     "text": [
      "epoch73: 100%|██████████| 404/404 [00:13<00:00, 30.67iter/s, loss: 0.029]\n"
     ]
    },
    {
     "name": "stdout",
     "output_type": "stream",
     "text": [
      "test_acc: 47.92 test_loss: 2.62 | [pred: appreciate target: appreciate]\n",
      "test_acc: 87.50 test_loss: 0.74 | [pred: contented target: contented]\n"
     ]
    },
    {
     "name": "stderr",
     "output_type": "stream",
     "text": [
      "epoch74: 100%|██████████| 404/404 [00:12<00:00, 31.19iter/s, loss: 0.029]\n"
     ]
    },
    {
     "name": "stdout",
     "output_type": "stream",
     "text": [
      "test_acc: 50.00 test_loss: 2.60 | [pred: appreciate target: appreciate]\n",
      "test_acc: 89.58 test_loss: 0.65 | [pred: contented target: contented]\n"
     ]
    },
    {
     "name": "stderr",
     "output_type": "stream",
     "text": [
      "epoch75: 100%|██████████| 404/404 [00:13<00:00, 30.60iter/s, loss: 0.029]\n"
     ]
    },
    {
     "name": "stdout",
     "output_type": "stream",
     "text": [
      "test_acc: 52.08 test_loss: 2.56 | [pred: appreciate target: appreciate]\n",
      "test_acc: 87.50 test_loss: 0.71 | [pred: contented target: contented]\n"
     ]
    },
    {
     "name": "stderr",
     "output_type": "stream",
     "text": [
      "epoch76: 100%|██████████| 404/404 [00:13<00:00, 30.71iter/s, loss: 0.029]\n"
     ]
    },
    {
     "name": "stdout",
     "output_type": "stream",
     "text": [
      "test_acc: 50.00 test_loss: 2.53 | [pred: appreciate target: appreciate]\n",
      "test_acc: 87.50 test_loss: 0.71 | [pred: contented target: contented]\n"
     ]
    },
    {
     "name": "stderr",
     "output_type": "stream",
     "text": [
      "epoch77: 100%|██████████| 404/404 [00:13<00:00, 30.75iter/s, loss: 0.029]\n"
     ]
    },
    {
     "name": "stdout",
     "output_type": "stream",
     "text": [
      "test_acc: 50.00 test_loss: 2.58 | [pred: appreciate target: appreciate]\n",
      "test_acc: 87.50 test_loss: 0.71 | [pred: contented target: contented]\n"
     ]
    },
    {
     "name": "stderr",
     "output_type": "stream",
     "text": [
      "epoch78: 100%|██████████| 404/404 [00:13<00:00, 30.70iter/s, loss: 0.028]\n"
     ]
    },
    {
     "name": "stdout",
     "output_type": "stream",
     "text": [
      "test_acc: 50.00 test_loss: 2.51 | [pred: appreciate target: appreciate]\n",
      "test_acc: 89.58 test_loss: 0.64 | [pred: contented target: contented]\n"
     ]
    },
    {
     "name": "stderr",
     "output_type": "stream",
     "text": [
      "epoch79: 100%|██████████| 404/404 [00:13<00:00, 30.98iter/s, loss: 0.028]\n"
     ]
    },
    {
     "name": "stdout",
     "output_type": "stream",
     "text": [
      "test_acc: 52.08 test_loss: 2.42 | [pred: appreciate target: appreciate]\n",
      "test_acc: 89.58 test_loss: 0.64 | [pred: contented target: contented]\n"
     ]
    },
    {
     "name": "stderr",
     "output_type": "stream",
     "text": [
      "epoch80: 100%|██████████| 404/404 [00:13<00:00, 30.87iter/s, loss: 0.028]\n"
     ]
    },
    {
     "name": "stdout",
     "output_type": "stream",
     "text": [
      "test_acc: 47.92 test_loss: 2.49 | [pred: appreciate target: appreciate]\n",
      "test_acc: 89.58 test_loss: 0.64 | [pred: contented target: contented]\n"
     ]
    },
    {
     "name": "stderr",
     "output_type": "stream",
     "text": [
      "epoch81: 100%|██████████| 404/404 [00:13<00:00, 30.71iter/s, loss: 0.028]\n"
     ]
    },
    {
     "name": "stdout",
     "output_type": "stream",
     "text": [
      "test_acc: 45.83 test_loss: 2.66 | [pred: appreciate target: appreciate]\n",
      "test_acc: 89.58 test_loss: 0.65 | [pred: contented target: contented]\n"
     ]
    },
    {
     "name": "stderr",
     "output_type": "stream",
     "text": [
      "epoch82: 100%|██████████| 404/404 [00:13<00:00, 30.98iter/s, loss: 0.028]\n"
     ]
    },
    {
     "name": "stdout",
     "output_type": "stream",
     "text": [
      "test_acc: 50.00 test_loss: 2.53 | [pred: appreciate target: appreciate]\n",
      "test_acc: 89.58 test_loss: 0.65 | [pred: contented target: contented]\n"
     ]
    },
    {
     "name": "stderr",
     "output_type": "stream",
     "text": [
      "epoch83: 100%|██████████| 404/404 [00:13<00:00, 30.62iter/s, loss: 0.028]\n"
     ]
    },
    {
     "name": "stdout",
     "output_type": "stream",
     "text": [
      "test_acc: 47.92 test_loss: 2.67 | [pred: appreciate target: appreciate]\n",
      "test_acc: 89.58 test_loss: 0.65 | [pred: contented target: contented]\n"
     ]
    },
    {
     "name": "stderr",
     "output_type": "stream",
     "text": [
      "epoch84: 100%|██████████| 404/404 [00:13<00:00, 30.70iter/s, loss: 0.028]\n"
     ]
    },
    {
     "name": "stdout",
     "output_type": "stream",
     "text": [
      "test_acc: 47.92 test_loss: 2.62 | [pred: appreciate target: appreciate]\n",
      "test_acc: 89.58 test_loss: 0.64 | [pred: contented target: contented]\n"
     ]
    },
    {
     "name": "stderr",
     "output_type": "stream",
     "text": [
      "epoch85: 100%|██████████| 404/404 [00:13<00:00, 30.89iter/s, loss: 0.028]\n"
     ]
    },
    {
     "name": "stdout",
     "output_type": "stream",
     "text": [
      "test_acc: 47.92 test_loss: 2.68 | [pred: appreciate target: appreciate]\n",
      "test_acc: 89.58 test_loss: 0.64 | [pred: contented target: contented]\n"
     ]
    },
    {
     "name": "stderr",
     "output_type": "stream",
     "text": [
      "epoch86: 100%|██████████| 404/404 [00:13<00:00, 30.96iter/s, loss: 0.028]\n"
     ]
    },
    {
     "name": "stdout",
     "output_type": "stream",
     "text": [
      "test_acc: 47.92 test_loss: 2.67 | [pred: appreciate target: appreciate]\n",
      "test_acc: 89.58 test_loss: 0.65 | [pred: contented target: contented]\n"
     ]
    },
    {
     "name": "stderr",
     "output_type": "stream",
     "text": [
      "epoch87: 100%|██████████| 404/404 [00:13<00:00, 30.89iter/s, loss: 0.028]\n"
     ]
    },
    {
     "name": "stdout",
     "output_type": "stream",
     "text": [
      "test_acc: 47.92 test_loss: 2.63 | [pred: appreciate target: appreciate]\n",
      "test_acc: 89.58 test_loss: 0.64 | [pred: contented target: contented]\n"
     ]
    },
    {
     "name": "stderr",
     "output_type": "stream",
     "text": [
      "epoch88: 100%|██████████| 404/404 [00:13<00:00, 30.59iter/s, loss: 0.027]\n"
     ]
    },
    {
     "name": "stdout",
     "output_type": "stream",
     "text": [
      "test_acc: 47.92 test_loss: 2.63 | [pred: appreciate target: appreciate]\n",
      "test_acc: 89.58 test_loss: 0.64 | [pred: contented target: contented]\n"
     ]
    },
    {
     "name": "stderr",
     "output_type": "stream",
     "text": [
      "epoch89: 100%|██████████| 404/404 [00:13<00:00, 30.81iter/s, loss: 0.028]\n"
     ]
    },
    {
     "name": "stdout",
     "output_type": "stream",
     "text": [
      "test_acc: 50.00 test_loss: 2.52 | [pred: appreciate target: appreciate]\n",
      "test_acc: 89.58 test_loss: 0.65 | [pred: contented target: contented]\n"
     ]
    },
    {
     "name": "stderr",
     "output_type": "stream",
     "text": [
      "epoch90: 100%|██████████| 404/404 [00:12<00:00, 31.19iter/s, loss: 0.027]\n"
     ]
    },
    {
     "name": "stdout",
     "output_type": "stream",
     "text": [
      "test_acc: 50.00 test_loss: 2.52 | [pred: appreciate target: appreciate]\n",
      "test_acc: 87.50 test_loss: 0.71 | [pred: contented target: contented]\n"
     ]
    },
    {
     "name": "stderr",
     "output_type": "stream",
     "text": [
      "epoch91: 100%|██████████| 404/404 [00:13<00:00, 30.11iter/s, loss: 0.027]\n"
     ]
    },
    {
     "name": "stdout",
     "output_type": "stream",
     "text": [
      "test_acc: 50.00 test_loss: 2.52 | [pred: appreciate target: appreciate]\n",
      "test_acc: 87.50 test_loss: 0.71 | [pred: contented target: contented]\n"
     ]
    },
    {
     "name": "stderr",
     "output_type": "stream",
     "text": [
      "epoch92: 100%|██████████| 404/404 [00:13<00:00, 30.45iter/s, loss: 0.027]\n"
     ]
    },
    {
     "name": "stdout",
     "output_type": "stream",
     "text": [
      "test_acc: 50.00 test_loss: 2.52 | [pred: appreciate target: appreciate]\n",
      "test_acc: 87.50 test_loss: 0.71 | [pred: contented target: contented]\n"
     ]
    },
    {
     "name": "stderr",
     "output_type": "stream",
     "text": [
      "epoch93: 100%|██████████| 404/404 [00:13<00:00, 30.87iter/s, loss: 0.027]\n"
     ]
    },
    {
     "name": "stdout",
     "output_type": "stream",
     "text": [
      "test_acc: 50.00 test_loss: 2.52 | [pred: appreciate target: appreciate]\n",
      "test_acc: 87.50 test_loss: 0.71 | [pred: contented target: contented]\n"
     ]
    },
    {
     "name": "stderr",
     "output_type": "stream",
     "text": [
      "epoch94: 100%|██████████| 404/404 [00:13<00:00, 30.70iter/s, loss: 0.028]\n"
     ]
    },
    {
     "name": "stdout",
     "output_type": "stream",
     "text": [
      "test_acc: 47.92 test_loss: 2.54 | [pred: appreciate target: appreciate]\n",
      "test_acc: 87.50 test_loss: 0.71 | [pred: contented target: contented]\n"
     ]
    },
    {
     "name": "stderr",
     "output_type": "stream",
     "text": [
      "epoch95: 100%|██████████| 404/404 [00:13<00:00, 30.77iter/s, loss: 0.027]\n"
     ]
    },
    {
     "name": "stdout",
     "output_type": "stream",
     "text": [
      "test_acc: 50.00 test_loss: 2.54 | [pred: appreciate target: appreciate]\n",
      "test_acc: 87.50 test_loss: 0.71 | [pred: contented target: contented]\n"
     ]
    },
    {
     "name": "stderr",
     "output_type": "stream",
     "text": [
      "epoch96: 100%|██████████| 404/404 [00:13<00:00, 30.62iter/s, loss: 0.027]\n"
     ]
    },
    {
     "name": "stdout",
     "output_type": "stream",
     "text": [
      "test_acc: 50.00 test_loss: 2.54 | [pred: appreciate target: appreciate]\n",
      "test_acc: 87.50 test_loss: 0.71 | [pred: contented target: contented]\n"
     ]
    },
    {
     "name": "stderr",
     "output_type": "stream",
     "text": [
      "epoch97: 100%|██████████| 404/404 [00:13<00:00, 30.79iter/s, loss: 0.027]\n"
     ]
    },
    {
     "name": "stdout",
     "output_type": "stream",
     "text": [
      "test_acc: 50.00 test_loss: 2.54 | [pred: appreciate target: appreciate]\n",
      "test_acc: 87.50 test_loss: 0.71 | [pred: contented target: contented]\n"
     ]
    },
    {
     "name": "stderr",
     "output_type": "stream",
     "text": [
      "epoch98: 100%|██████████| 404/404 [00:13<00:00, 30.64iter/s, loss: 0.028]\n"
     ]
    },
    {
     "name": "stdout",
     "output_type": "stream",
     "text": [
      "test_acc: 47.92 test_loss: 2.52 | [pred: appreciate target: appreciate]\n",
      "test_acc: 87.50 test_loss: 0.71 | [pred: contented target: contented]\n"
     ]
    },
    {
     "name": "stderr",
     "output_type": "stream",
     "text": [
      "epoch99: 100%|██████████| 404/404 [00:13<00:00, 30.37iter/s, loss: 0.027]\n"
     ]
    },
    {
     "name": "stdout",
     "output_type": "stream",
     "text": [
      "test_acc: 50.00 test_loss: 2.52 | [pred: appreciate target: appreciate]\n",
      "test_acc: 87.50 test_loss: 0.71 | [pred: contented target: contented]\n"
     ]
    }
   ],
   "source": [
    "# encoder.pretrained_mode = False\n",
    "for eps in range(epochs):\n",
    "    # train\n",
    "    losses = []\n",
    "    model.train()\n",
    "    i_bar = tqdm(trainloader, unit='iter', desc=f'epoch{eps}')\n",
    "    for src, tgt in i_bar:\n",
    "        src, tgt = src.to(device), tgt.to(device)\n",
    "        # generate the mask and padding mask\n",
    "        src_pad_mask = gen_padding_mask(src=src, pad_idx=0).to(device)\n",
    "        tgt_pad_mask = gen_padding_mask(src=tgt, pad_idx=0).to(device)\n",
    "        tgt_mask = gen_mask(tgt).to(device)\n",
    "        optimizer.zero_grad()\n",
    "        pred = model(src, tgt, src_pad_mask, tgt_mask, tgt_pad_mask).to(device) #[32,22,512]\n",
    "        loss = ce_loss(pred[:, :-1, :].permute(0, 2, 1), tgt[:, 1:])\n",
    "        loss.backward()\n",
    "        optimizer.step()\n",
    "        losses.append(loss.item())\n",
    "        i_bar.set_postfix_str(f\"loss: {sum(losses)/len(losses):.3f}\")\n",
    "    scheduler.step()\n",
    "    epoch_loss = sum(losses) / len(losses)\n",
    "    loss_history.append(epoch_loss)\n",
    "    # test\n",
    "    model.eval()\n",
    "    with torch.no_grad():\n",
    "        blue_4_score = validation(testloader, model, device)\n",
    "        blue_scores.append(blue_4_score)\n",
    "    model.eval()\n",
    "    with torch.no_grad():\n",
    "        validation(valloader, model, device)\n",
    "    # eval"
   ]
  },
  {
   "cell_type": "code",
   "execution_count": 91,
   "metadata": {},
   "outputs": [
    {
     "name": "stdout",
     "output_type": "stream",
     "text": [
      "==============================\n",
      "input: apreciate\n",
      "pred: appreciate\n",
      "target: appreciate\n",
      "==============================\n",
      "input: appeciate\n",
      "pred: appreciate\n",
      "target: appreciate\n",
      "==============================\n",
      "input: apprciate\n",
      "pred: appreciate\n",
      "target: appreciate\n",
      "==============================\n",
      "input: apprecate\n",
      "pred: appreciate\n",
      "target: appreciate\n",
      "==============================\n",
      "input: apprecite\n",
      "pred: appreciate\n",
      "target: appreciate\n",
      "==============================\n",
      "input: luve\n",
      "pred: love\n",
      "target: love\n",
      "==============================\n",
      "input: culd\n",
      "pred: clud\n",
      "target: cold\n",
      "==============================\n",
      "input: heart\n",
      "pred: earths\n",
      "target: heart\n",
      "==============================\n",
      "input: televiseon\n",
      "pred: television\n",
      "target: television\n",
      "==============================\n",
      "input: thone\n",
      "pred: phone\n",
      "target: phone\n",
      "==============================\n",
      "input: phace\n",
      "pred: chape\n",
      "target: phase\n",
      "==============================\n",
      "input: poam\n",
      "pred: umpargo\n",
      "target: poem\n",
      "==============================\n",
      "input: tomorraw\n",
      "pred: tomorrow\n",
      "target: tomorrow\n",
      "==============================\n",
      "input: presishan\n",
      "pred: pershine\n",
      "target: precision\n",
      "==============================\n",
      "input: presishion\n",
      "pred: precision\n",
      "target: precision\n",
      "==============================\n",
      "input: presisian\n",
      "pred: spiritian\n",
      "target: precision\n",
      "==============================\n",
      "input: presistion\n",
      "pred: prisonect\n",
      "target: precision\n",
      "==============================\n",
      "input: perver\n",
      "pred: prever\n",
      "target: prefer\n",
      "==============================\n",
      "input: predgudice\n",
      "pred: proceding\n",
      "target: prejudice\n",
      "==============================\n",
      "input: predgudis\n",
      "pred: pursuided\n",
      "target: prejudice\n",
      "==============================\n",
      "input: recievor\n",
      "pred: receiver\n",
      "target: receiver\n",
      "==============================\n",
      "input: reciover\n",
      "pred: receiver\n",
      "target: receiver\n",
      "==============================\n",
      "input: relieve\n",
      "pred: relieve\n",
      "target: relief\n",
      "==============================\n",
      "input: togather\n",
      "pred: thorough\n",
      "target: together\n",
      "==============================\n",
      "input: remuttance\n",
      "pred: contrument\n",
      "target: remittance\n",
      "==============================\n",
      "input: deposite\n",
      "pred: deposit\n",
      "target: deposit\n",
      "==============================\n",
      "input: deposittt\n",
      "pred: depost\n",
      "target: deposit\n",
      "==============================\n",
      "input: peper\n",
      "pred: pepper\n",
      "target: pepper\n",
      "==============================\n",
      "input: pepperrr\n",
      "pred: preparer\n",
      "target: pepper\n",
      "==============================\n",
      "input: employe\n",
      "pred: employeee\n",
      "target: employee\n",
      "==============================\n",
      "input: employezz\n",
      "pred: prozely\n",
      "target: employee\n",
      "==============================\n",
      "input: bestt\n",
      "pred: beats\n",
      "target: best\n",
      "==============================\n",
      "input: aset\n",
      "pred: sight\n",
      "target: best\n",
      "==============================\n",
      "input: feeture\n",
      "pred: feature\n",
      "target: feature\n",
      "==============================\n",
      "input: faeture\n",
      "pred: feature\n",
      "target: feature\n",
      "==============================\n",
      "input: featture\n",
      "pred: fateur\n",
      "target: feature\n",
      "==============================\n",
      "input: gorges\n",
      "pred: gross\n",
      "target: gorgeous\n",
      "==============================\n",
      "input: gorgeus\n",
      "pred: gorgeous\n",
      "target: gorgeous\n",
      "==============================\n",
      "input: gourgace\n",
      "pred: curious\n",
      "target: gorgeous\n",
      "==============================\n",
      "input: gripe\n",
      "pred: grip\n",
      "target: grip\n",
      "==============================\n",
      "input: hienous\n",
      "pred: heinous\n",
      "target: heinous\n",
      "==============================\n",
      "input: hurple\n",
      "pred: purple\n",
      "target: purple\n",
      "==============================\n",
      "input: occassional\n",
      "pred: occasional\n",
      "target: occasional\n",
      "==============================\n",
      "input: tirumph\n",
      "pred: triumph\n",
      "target: triumph\n",
      "==============================\n",
      "input: triam\n",
      "pred: triumph\n",
      "target: triumph\n",
      "==============================\n",
      "input: unforgatealbe\n",
      "pred: flaborator\n",
      "target: unforgettable\n",
      "==============================\n",
      "input: unforgattable\n",
      "pred: bongratulate\n",
      "target: unforgettable\n",
      "==============================\n",
      "input: vesiable\n",
      "pred: visible\n",
      "target: visible\n",
      "test_acc: 50.00 test_loss: 2.52 | [pred: appreciate target: appreciate]\n"
     ]
    },
    {
     "data": {
      "text/plain": [
       "50.0"
      ]
     },
     "execution_count": 91,
     "metadata": {},
     "output_type": "execute_result"
    }
   ],
   "source": [
    "validation(testloader, model, device, logout=True)\n"
   ]
  },
  {
   "cell_type": "code",
   "execution_count": 90,
   "metadata": {},
   "outputs": [
    {
     "data": {
      "image/png": "[encoded data removed]",
      "text/plain": [
       "<Figure size 1000x500 with 1 Axes>"
      ]
     },
     "metadata": {},
     "output_type": "display_data"
    },
    {
     "data": {
      "image/png": "[encoded data removed]",
      "text/plain": [
       "<Figure size 1000x500 with 1 Axes>"
      ]
     },
     "metadata": {},
     "output_type": "display_data"
    }
   ],
   "source": [
    "import matplotlib.pyplot as plt\n",
    "plt.figure(figsize=(10, 5))\n",
    "plt.plot(range(epochs), loss_history, marker='o', label='Training Loss')\n",
    "plt.xlabel('Epochs')\n",
    "plt.ylabel('Loss')\n",
    "plt.title('Training Loss Over Epochs')\n",
    "plt.grid(True)\n",
    "plt.legend()\n",
    "plt.figure(figsize=(10, 5))\n",
    "plt.plot(range(epochs), blue_scores, marker='o', label='BLEU-4  testing  score')\n",
    "plt.xlabel('Epochs')\n",
    "plt.ylabel('Score')\n",
    "plt.title('BLEU-4  testing  score')\n",
    "plt.grid(True)\n",
    "plt.legend()\n",
    "plt.show()"
   ]
  }
 ],
 "metadata": {
  "kernelspec": {
   "display_name": "Python 3",
   "language": "python",
   "name": "python3"
  },
  "language_info": {
   "codemirror_mode": {
    "name": "ipython",
    "version": 3
   },
   "file_extension": ".py",
   "mimetype": "text/x-python",
   "name": "python",
   "nbconvert_exporter": "python",
   "pygments_lexer": "ipython3",
   "version": "3.11.9"
  }
 },
 "nbformat": 4,
 "nbformat_minor": 2
}
